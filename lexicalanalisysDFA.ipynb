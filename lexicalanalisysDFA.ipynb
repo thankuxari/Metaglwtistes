{
 "cells": [
  {
   "cell_type": "code",
   "execution_count": 2,
   "id": "ecc91ed6-c971-466b-8ba3-90e1a5a60087",
   "metadata": {},
   "outputs": [],
   "source": [
    "from compilerlabs import DFA"
   ]
  },
  {
   "cell_type": "code",
   "execution_count": 3,
   "id": "e2a56e85-4cef-4837-926f-b1782126702d",
   "metadata": {},
   "outputs": [],
   "source": [
    "test_dfa = DFA('s0')"
   ]
  },
  {
   "cell_type": "code",
   "execution_count": 4,
   "id": "02f2d7cf-33a5-4e4d-b77f-7b40cbebbe56",
   "metadata": {},
   "outputs": [],
   "source": [
    "test_dfa.transition('s0','t','s1')"
   ]
  },
  {
   "cell_type": "code",
   "execution_count": 5,
   "id": "7c937fdb-0886-44ac-a24c-c7a36d8f7b27",
   "metadata": {},
   "outputs": [],
   "source": [
    "test_dfa.transition('s1',['0','1','2'],'s2')"
   ]
  },
  {
   "cell_type": "code",
   "execution_count": 6,
   "id": "230a81f9-d1f3-484c-b38e-600fade63213",
   "metadata": {},
   "outputs": [],
   "source": [
    "test_dfa.accept('s2','TOK1')"
   ]
  },
  {
   "cell_type": "code",
   "execution_count": 7,
   "id": "45eaec1a-0458-461b-8c81-4de7fbaed8ae",
   "metadata": {},
   "outputs": [
    {
     "name": "stdout",
     "output_type": "stream",
     "text": [
      " error\n"
     ]
    }
   ],
   "source": [
    "token,lexem = test_dfa.scan('t')\n",
    "if(token):\n",
    "    print(lexem,'succes')\n",
    "else:\n",
    "    print(lexem,'error')"
   ]
  },
  {
   "cell_type": "code",
   "execution_count": 8,
   "id": "a3580e46-2118-4524-9d43-d253a4972ebb",
   "metadata": {},
   "outputs": [
    {
     "name": "stdout",
     "output_type": "stream",
     "text": [
      "LONG_TOKEN long\n",
      "TERM_TOKEN term\n",
      "TEST_TOKEN test\n"
     ]
    }
   ],
   "source": [
    "dfa1 = DFA('s0')\n",
    "\n",
    "dfa1.transition('s0','t','s1')\n",
    "dfa1.transition('s0','l','s2')\n",
    "dfa1.transition('s1','e','s3')\n",
    "dfa1.transition('s3','s','s4')\n",
    "dfa1.transition('s3','r','s6')\n",
    "dfa1.transition('s4','t','s5')\n",
    "dfa1.transition('s6','m','s7')\n",
    "dfa1.transition('s2','o','s8')\n",
    "dfa1.transition('s8','n','s9')\n",
    "dfa1.transition('s9','g','s10')\n",
    "\n",
    "dfa1.accept('s5','TEST_TOKEN')\n",
    "dfa1.accept('s7','TERM_TOKEN')\n",
    "dfa1.accept('s10','LONG_TOKEN')\n",
    "\n",
    "token,lexeme = dfa1.scan('long')\n",
    "print(token,lexeme)\n",
    "\n",
    "token,lexeme = dfa1.scan('term')\n",
    "print(token,lexeme)\n",
    "\n",
    "token,lexeme = dfa1.scan('test')\n",
    "print(token,lexeme)\n"
   ]
  },
  {
   "cell_type": "code",
   "execution_count": 9,
   "id": "f463b1d6-e8e1-4fd0-8997-7486770aa6b0",
   "metadata": {},
   "outputs": [
    {
     "name": "stdout",
     "output_type": "stream",
     "text": [
      "NUMBER_TOKEN 123\n"
     ]
    }
   ],
   "source": [
    "#num_dfa.transition('s1',['0','1','2','3','4','5','6','7','8','9'],'s1')\n",
    "\n",
    "def preproc(c):\n",
    "    if c>='0' and c<='9':\n",
    "        return 'DIGIT'\n",
    "    return c\n",
    "\n",
    "dfa2 = DFA('s0',preproc)\n",
    "\n",
    "dfa2.transition('s0','DIGIT','s1')\n",
    "dfa2.transition('s1','DIGIT','s1')\n",
    "\n",
    "dfa2.accept('s1','NUMBER_TOKEN')\n",
    "\n",
    "token,lexeme = dfa2.scan('123')\n",
    "print(token,lexeme)\n"
   ]
  },
  {
   "cell_type": "code",
   "execution_count": 10,
   "id": "560e9dcd-156f-46b8-842e-a98fa2a90fea",
   "metadata": {},
   "outputs": [
    {
     "name": "stdout",
     "output_type": "stream",
     "text": [
      "NUMBER_TOKEN 123\n",
      "NUMBER_TOKEN 123\n",
      "FLOAT_TOKEN 123.34\n"
     ]
    }
   ],
   "source": [
    "def preproc(c):\n",
    "    if c>='0' and c<='9':\n",
    "        return 'DIGIT'\n",
    "    return c\n",
    "\n",
    "dfa3 = DFA('s0',preproc)\n",
    "\n",
    "dfa3.transition('s0','DIGIT','s1')\n",
    "dfa3.transition('s1','DIGIT','s1')\n",
    "dfa3.transition('s1','.','s2')\n",
    "dfa3.transition('s2','DIGIT','s3')\n",
    "dfa3.transition('s3','DIGIT','s3')\n",
    "\n",
    "dfa3.accept('s1','NUMBER_TOKEN')\n",
    "dfa3.accept('s3','FLOAT_TOKEN')\n",
    "\n",
    "token,lexeme = dfa3.scan('123')\n",
    "print(token,lexeme)\n",
    "\n",
    "token,lexeme = dfa3.scan('123.')\n",
    "print(token,lexeme)\n",
    "\n",
    "token,lexeme = dfa3.scan('123.34')\n",
    "print(token,lexeme)\n",
    "\n",
    "\n"
   ]
  },
  {
   "cell_type": "code",
   "execution_count": 33,
   "id": "16a1569a-fd43-47c5-b3ff-cc9fd661fe39",
   "metadata": {},
   "outputs": [
    {
     "name": "stdout",
     "output_type": "stream",
     "text": [
      "NUMBER_TOKEN 1234\n",
      "NUMBER_TOKEN 123\n",
      "FLOAT_TOKEN 123.48\n",
      "SCIENTIFIC_TOKEN 123.48e56\n"
     ]
    }
   ],
   "source": [
    "#1.1\n",
    "def preproc(c):\n",
    "    if c>='0' and c<='9':\n",
    "        return 'DIGIT'\n",
    "    return c\n",
    "\n",
    "dfa4 = DFA('s0',preproc)\n",
    "\n",
    "dfa4.transition('s0','DIGIT','s1')\n",
    "dfa4.transition('s1','DIGIT','s1')\n",
    "dfa4.transition('s1','.','s2')\n",
    "dfa4.transition('s2','DIGIT','s3')\n",
    "dfa4.transition('s3','DIGIT','s3')\n",
    "dfa4.transition('s3','e','s4')\n",
    "dfa4.transition('s4','DIGIT','s5')\n",
    "dfa4.transition('s5','DIGIT','s6')\n",
    "dfa4.transition('s6','DIGIT','s6')\n",
    "\n",
    "dfa4.accept('s1','NUMBER_TOKEN')\n",
    "dfa4.accept('s3','FLOAT_TOKEN')\n",
    "dfa4.accept('s5','SCIENTIFIC_TOKEN')\n",
    "dfa4.accept('s6','SCIENTIFIC_TOKEN')\n",
    "\n",
    "token,lexeme = dfa4.scan('1234')\n",
    "print(token,lexeme)\n",
    "\n",
    "token,lexeme = dfa4.scan('123.')\n",
    "print(token,lexeme)\n",
    "\n",
    "token,lexeme = dfa4.scan('123.48')\n",
    "print(token,lexeme)\n",
    "\n",
    "token,lexeme = dfa4.scan('123.48e56')\n",
    "print(token,lexeme)"
   ]
  }
 ],
 "metadata": {
  "kernelspec": {
   "display_name": "Python 3 (ipykernel)",
   "language": "python",
   "name": "python3"
  },
  "language_info": {
   "codemirror_mode": {
    "name": "ipython",
    "version": 3
   },
   "file_extension": ".py",
   "mimetype": "text/x-python",
   "name": "python",
   "nbconvert_exporter": "python",
   "pygments_lexer": "ipython3",
   "version": "3.10.12"
  }
 },
 "nbformat": 4,
 "nbformat_minor": 5
}
