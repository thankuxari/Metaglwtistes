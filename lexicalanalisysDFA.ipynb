{
 "cells": [
  {
   "cell_type": "code",
   "execution_count": 1,
   "id": "ecc91ed6-c971-466b-8ba3-90e1a5a60087",
   "metadata": {},
   "outputs": [],
   "source": [
    "from compilerlabs import DFA"
   ]
  },
  {
   "cell_type": "code",
   "execution_count": 2,
   "id": "e2a56e85-4cef-4837-926f-b1782126702d",
   "metadata": {},
   "outputs": [],
   "source": [
    "test_dfa = DFA('s0')"
   ]
  },
  {
   "cell_type": "code",
   "execution_count": 3,
   "id": "02f2d7cf-33a5-4e4d-b77f-7b40cbebbe56",
   "metadata": {},
   "outputs": [],
   "source": [
    "test_dfa.transition('s0','t','s1')"
   ]
  },
  {
   "cell_type": "code",
   "execution_count": 4,
   "id": "7c937fdb-0886-44ac-a24c-c7a36d8f7b27",
   "metadata": {},
   "outputs": [],
   "source": [
    "test_dfa.transition('s1',['0','1','2'],'s2')"
   ]
  },
  {
   "cell_type": "code",
   "execution_count": 5,
   "id": "230a81f9-d1f3-484c-b38e-600fade63213",
   "metadata": {},
   "outputs": [],
   "source": [
    "test_dfa.accept('s2','TOK1')"
   ]
  },
  {
   "cell_type": "code",
   "execution_count": 6,
   "id": "45eaec1a-0458-461b-8c81-4de7fbaed8ae",
   "metadata": {},
   "outputs": [
    {
     "name": "stdout",
     "output_type": "stream",
     "text": [
      " error\n"
     ]
    }
   ],
   "source": [
    "token,lexem = test_dfa.scan('t')\n",
    "if(token):\n",
    "    print(lexem,'succes')\n",
    "else:\n",
    "    print(lexem,'error')"
   ]
  },
  {
   "cell_type": "code",
   "execution_count": 7,
   "id": "a3580e46-2118-4524-9d43-d253a4972ebb",
   "metadata": {},
   "outputs": [
    {
     "name": "stdout",
     "output_type": "stream",
     "text": [
      "LONG_TOKEN long\n",
      "TERM_TOKEN term\n",
      "TEST_TOKEN test\n"
     ]
    }
   ],
   "source": [
    "dfa1 = DFA('s0')\n",
    "\n",
    "dfa1.transition('s0','t','s1')\n",
    "dfa1.transition('s0','l','s2')\n",
    "dfa1.transition('s1','e','s3')\n",
    "dfa1.transition('s3','s','s4')\n",
    "dfa1.transition('s3','r','s6')\n",
    "dfa1.transition('s4','t','s5')\n",
    "dfa1.transition('s6','m','s7')\n",
    "dfa1.transition('s2','o','s8')\n",
    "dfa1.transition('s8','n','s9')\n",
    "dfa1.transition('s9','g','s10')\n",
    "\n",
    "dfa1.accept('s5','TEST_TOKEN')\n",
    "dfa1.accept('s7','TERM_TOKEN')\n",
    "dfa1.accept('s10','LONG_TOKEN')\n",
    "\n",
    "token,lexeme = dfa1.scan('long')\n",
    "print(token,lexeme)\n",
    "\n",
    "token,lexeme = dfa1.scan('term')\n",
    "print(token,lexeme)\n",
    "\n",
    "token,lexeme = dfa1.scan('test')\n",
    "print(token,lexeme)\n"
   ]
  },
  {
   "cell_type": "code",
   "execution_count": 8,
   "id": "f463b1d6-e8e1-4fd0-8997-7486770aa6b0",
   "metadata": {},
   "outputs": [
    {
     "name": "stdout",
     "output_type": "stream",
     "text": [
      "NUMBER_TOKEN 123\n"
     ]
    }
   ],
   "source": [
    "#num_dfa.transition('s1',['0','1','2','3','4','5','6','7','8','9'],'s1')\n",
    "\n",
    "def preproc(c):\n",
    "    if c>='0' and c<='9':\n",
    "        return 'DIGIT'\n",
    "    return c\n",
    "\n",
    "dfa2 = DFA('s0',preproc)\n",
    "\n",
    "dfa2.transition('s0','DIGIT','s1')\n",
    "dfa2.transition('s1','DIGIT','s1')\n",
    "\n",
    "dfa2.accept('s1','NUMBER_TOKEN')\n",
    "\n",
    "token,lexeme = dfa2.scan('123')\n",
    "print(token,lexeme)\n"
   ]
  },
  {
   "cell_type": "code",
   "execution_count": 9,
   "id": "560e9dcd-156f-46b8-842e-a98fa2a90fea",
   "metadata": {},
   "outputs": [
    {
     "name": "stdout",
     "output_type": "stream",
     "text": [
      "NUMBER_TOKEN 123\n",
      "NUMBER_TOKEN 123\n",
      "FLOAT_TOKEN 123.34\n"
     ]
    }
   ],
   "source": [
    "def preproc(c):\n",
    "    if c>='0' and c<='9':\n",
    "        return 'DIGIT'\n",
    "    return c\n",
    "\n",
    "dfa3 = DFA('s0',preproc)\n",
    "\n",
    "dfa3.transition('s0','DIGIT','s1')\n",
    "dfa3.transition('s1','DIGIT','s1')\n",
    "dfa3.transition('s1','.','s2')\n",
    "dfa3.transition('s2','DIGIT','s3')\n",
    "dfa3.transition('s3','DIGIT','s3')\n",
    "\n",
    "dfa3.accept('s1','NUMBER_TOKEN')\n",
    "dfa3.accept('s3','FLOAT_TOKEN')\n",
    "\n",
    "token,lexeme = dfa3.scan('123')\n",
    "print(token,lexeme)\n",
    "\n",
    "token,lexeme = dfa3.scan('123.')\n",
    "print(token,lexeme)\n",
    "\n",
    "token,lexeme = dfa3.scan('123.34')\n",
    "print(token,lexeme)\n",
    "\n",
    "\n"
   ]
  },
  {
   "cell_type": "code",
   "execution_count": 10,
   "id": "16a1569a-fd43-47c5-b3ff-cc9fd661fe39",
   "metadata": {
    "scrolled": true
   },
   "outputs": [
    {
     "name": "stdout",
     "output_type": "stream",
     "text": [
      "NUMBER_TOKEN 1234\n",
      "NUMBER_TOKEN 123\n",
      "FLOAT_TOKEN 123.48\n",
      "SCIENTIFIC_TOKEN 123.48e56\n"
     ]
    }
   ],
   "source": [
    "#1.1\n",
    "def preproc(c):\n",
    "    if c>='0' and c<='9':\n",
    "        return 'DIGIT'\n",
    "    return c\n",
    "\n",
    "dfa4 = DFA('s0',preproc)\n",
    "\n",
    "dfa4.transition('s0','DIGIT','s1')\n",
    "dfa4.transition('s1','DIGIT','s1')\n",
    "dfa4.transition('s1','.','s2')\n",
    "dfa4.transition('s2','DIGIT','s3')\n",
    "dfa4.transition('s3','DIGIT','s3')\n",
    "dfa4.transition('s3','e','s4')\n",
    "dfa4.transition('s4','DIGIT','s5')\n",
    "dfa4.transition('s5','DIGIT','s6')\n",
    "dfa4.transition('s6','DIGIT','s6')\n",
    "\n",
    "dfa4.accept('s1','NUMBER_TOKEN')\n",
    "dfa4.accept('s3','FLOAT_TOKEN')\n",
    "dfa4.accept('s5','SCIENTIFIC_TOKEN')\n",
    "dfa4.accept('s6','SCIENTIFIC_TOKEN')\n",
    "\n",
    "token,lexeme = dfa4.scan('1234')\n",
    "print(token,lexeme)\n",
    "\n",
    "token,lexeme = dfa4.scan('123.')\n",
    "print(token,lexeme)\n",
    "\n",
    "token,lexeme = dfa4.scan('123.48')\n",
    "print(token,lexeme)\n",
    "\n",
    "token,lexeme = dfa4.scan('123.48e56')\n",
    "print(token,lexeme)"
   ]
  },
  {
   "cell_type": "code",
   "execution_count": 11,
   "id": "672b9779-a0e4-4590-b9eb-a6ba73e3ef2c",
   "metadata": {},
   "outputs": [
    {
     "name": "stdout",
     "output_type": "stream",
     "text": [
      "NUMBER_TOKEN 12\n",
      "None \n",
      "None \n",
      "NUMBER_TOKEN 1\n",
      "NUMBER_TOKEN 10\n",
      "None \n",
      "NUMBER_TOKEN 11\n",
      "None \n",
      "None \n"
     ]
    }
   ],
   "source": [
    "#1.05\n",
    "\n",
    "def preproc(c):\n",
    "    if c>='10' and c<='19':\n",
    "        return 'DIGIT'\n",
    "    return c\n",
    "\n",
    "dfa4 = DFA('s0',preproc)\n",
    "\n",
    "dfa4.transition('s0','1','s1')\n",
    "dfa4.transition('s1','DIGIT','s1')\n",
    "dfa4.transition('s1',['0','1','2','3','4','5','6','7','8','9'],'s2')\n",
    "\n",
    "dfa4.accept('s1','NUMBER_TOKEN')\n",
    "dfa4.accept('s2','NUMBER_TOKEN')\n",
    "\n",
    "token,lexeme = dfa4.scan('12')\n",
    "print(token,lexeme)\n",
    "\n",
    "token,lexeme = dfa4.scan('01')\n",
    "print(token,lexeme)\n",
    "\n",
    "token,lexeme = dfa4.scan('20')\n",
    "print(token,lexeme)\n",
    "\n",
    "token,lexeme = dfa4.scan('1')\n",
    "print(token,lexeme)\n",
    "\n",
    "token,lexeme = dfa4.scan('10')\n",
    "print(token,lexeme)\n",
    "\n",
    "token,lexeme = dfa4.scan('35')\n",
    "print(token,lexeme)\n",
    "\n",
    "token,lexeme = dfa4.scan('11')\n",
    "print(token,lexeme)\n",
    "\n",
    "token,lexeme = dfa4.scan('350')\n",
    "print(token,lexeme)\n",
    "\n",
    "token,lexeme = dfa4.scan('445')\n",
    "print(token,lexeme)"
   ]
  },
  {
   "cell_type": "code",
   "execution_count": 14,
   "id": "2d68d510-7a1e-4f1e-8613-83b8dfd67a65",
   "metadata": {},
   "outputs": [
    {
     "name": "stdout",
     "output_type": "stream",
     "text": [
      "BYTE_TOKEN 1111111\n"
     ]
    }
   ],
   "source": [
    "\n",
    "dfa4 = DFA('s0')\n",
    "\n",
    "dfa4.transition('s0', ['0', '1'] * (2 ** 0), 's1')\n",
    "dfa4.transition('s1', ['0', '1'] * (2 ** 1), 's1')\n",
    "dfa4.transition('s1', ['0', '1'] * (2 ** 2), 's2')\n",
    "dfa4.transition('s2', ['0', '1'] * (2 ** 3), 's3')\n",
    "dfa4.transition('s3', ['0', '1'] * (2 ** 4), 's4')\n",
    "dfa4.transition('s4', ['0', '1'] * (2 ** 5), 's5')\n",
    "dfa4.transition('s5', ['0', '1'] * (2 ** 6), 's6')\n",
    "dfa4.transition('s6', ['0', '1'] * (2 ** 7), 's7')\n",
    "\n",
    "dfa4.accept('s7','BYTE_TOKEN')\n",
    "\n",
    "token,lexeme = dfa4.scan('11111111')\n",
    "print(token,lexeme)\n"
   ]
  },
  {
   "cell_type": "code",
   "execution_count": 25,
   "id": "17446d06-5c9c-4e82-bfa2-9e91d7db92f7",
   "metadata": {},
   "outputs": [
    {
     "name": "stdout",
     "output_type": "stream",
     "text": [
      "LETTER_TOKEN aaaaabbbbcccq\n",
      "LETTER_TOKEN zzzzxxhd\n",
      "LETTER_TOKEN d\n"
     ]
    }
   ],
   "source": [
    "def preproc(c):\n",
    "    if c>='a' and c<='z':\n",
    "        return 'LETTER'\n",
    "    return c\n",
    "\n",
    "dfa = DFA('s0',preproc)\n",
    "\n",
    "dfa.transition('s0','LETTER','s1')\n",
    "dfa.transition('s1','LETTER','s1')\n",
    "\n",
    "dfa.accept('s0','LETTER_TOKEN')\n",
    "dfa.accept('s1','LETTER_TOKEN')\n",
    "\n",
    "token,lexeme = dfa.scan('aaaaabbbbcccq')\n",
    "print(token,lexeme)\n",
    "\n",
    "token,lexeme = dfa.scan('zzzzxxhd')\n",
    "print(token,lexeme)\n",
    "\n",
    "token,lexeme = dfa.scan('d')\n",
    "print(token,lexeme)"
   ]
  },
  {
   "cell_type": "code",
   "execution_count": 50,
   "id": "2cbdc2bb-4a12-4d59-8f87-b47b71049694",
   "metadata": {},
   "outputs": [
    {
     "name": "stdout",
     "output_type": "stream",
     "text": [
      "None \n",
      "None \n",
      "None \n",
      "None \n"
     ]
    }
   ],
   "source": [
    "def preproc(c):\n",
    "    if c >= 'a' and c <= 'h':\n",
    "        return 'LETTER'\n",
    "    if c >= 'i' and c <= 'm':\n",
    "        return 'LETTER2'\n",
    "    if c >= 'n' and c <= 's':\n",
    "        return 'LETTER3'\n",
    "    return c\n",
    "\n",
    "dfa = DFA('s0',preproc)\n",
    "\n",
    "dfa.transition('s0', 'i', 's1')\n",
    "dfa.transition('s1', 'n', 's2')\n",
    "dfa.transition('s1', 'LETTER2', 's3')\n",
    "dfa.transition('s3', 'LETTER3', 's3')\n",
    "dfa.transition('s2', 't', 's4')\n",
    "\n",
    "dfa.accept('s3', 'LETTER_TOKEN')\n",
    "dfa.accept('s4', 'INT_TOKEN')\n",
    "\n",
    "token,lexeme = dfa.scan('i')\n",
    "print(token,lexeme)\n",
    "\n",
    "token,lexeme = dfa.scan('in')\n",
    "print(token,lexeme)\n",
    "\n",
    "token,lexeme = dfa.scan('int')\n",
    "print(token,lexeme)\n",
    "\n",
    "token,lexeme = dfa.scan('inx')\n",
    "print(token,lexeme)"
   ]
  },
  {
   "cell_type": "code",
   "execution_count": 13,
   "id": "38a4fe2d-c5d9-4047-a3df-d08fdc7dc3fb",
   "metadata": {},
   "outputs": [
    {
     "name": "stdout",
     "output_type": "stream",
     "text": [
      "None \n",
      "None \n",
      "None \n"
     ]
    }
   ],
   "source": [
    "#1.2\n",
    "\n",
    "dfa5 = DFA('s0')\n",
    "\n",
    "dfa5.transition('s0',['00','01','02','03','04','05','06','07','08','09','1','2','3','4','5','6','7','8','9','10','11','12','13','14','15','16','17','18','19','20','21','22','23'],'s1')\n",
    "dfa5.transition('s1',['00','01','02','03','04','05','06','07','08','09','1','2','3','4','5','6','7','8','9','10','11','12','13','14','15','16','17','18','19','20','21','22','23'],'s1')\n",
    "dfa5.transition('s1',':','s2')\n",
    "dfa5.transition('s2','0123456789','s3')\n",
    "dfa5.transition('s3','0123456789','s3')\n",
    "\n",
    "dfa5.accept('s3','TIME_TOKEN')\n",
    "\n",
    "token,lexeme = dfa5.scan('03:45')\n",
    "print(token,lexeme)\n",
    "\n",
    "token,lexeme = dfa5.scan('3:45')\n",
    "print(token,lexeme)\n",
    "\n",
    "token,lexeme = dfa5.scan('32:45')\n",
    "print(token,lexeme)\n",
    "\n",
    "\n"
   ]
  },
  {
   "cell_type": "code",
   "execution_count": null,
   "id": "974a0f42-42bc-4c91-b14f-337f774efc9c",
   "metadata": {},
   "outputs": [],
   "source": []
  },
  {
   "cell_type": "code",
   "execution_count": null,
   "id": "b6671c1b-df5c-433f-8f00-d9b476ade622",
   "metadata": {},
   "outputs": [],
   "source": []
  },
  {
   "cell_type": "code",
   "execution_count": null,
   "id": "b9b97762-7178-4751-b112-725ed9715943",
   "metadata": {},
   "outputs": [],
   "source": []
  }
 ],
 "metadata": {
  "kernelspec": {
   "display_name": "Python 3 (ipykernel)",
   "language": "python",
   "name": "python3"
  },
  "language_info": {
   "codemirror_mode": {
    "name": "ipython",
    "version": 3
   },
   "file_extension": ".py",
   "mimetype": "text/x-python",
   "name": "python",
   "nbconvert_exporter": "python",
   "pygments_lexer": "ipython3",
   "version": "3.12.1"
  }
 },
 "nbformat": 4,
 "nbformat_minor": 5
}
