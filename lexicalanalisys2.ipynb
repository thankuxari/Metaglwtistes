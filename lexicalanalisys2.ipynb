{
 "cells": [
  {
   "cell_type": "code",
   "execution_count": 2,
   "id": "ec2d14f2-cb9e-4cb4-83ae-f4e8660c94c4",
   "metadata": {},
   "outputs": [],
   "source": [
    "import re"
   ]
  },
  {
   "cell_type": "code",
   "execution_count": 5,
   "id": "4c1f23ef-6845-434d-bfe1-c4a3fa8620da",
   "metadata": {},
   "outputs": [],
   "source": [
    "rexp = re.compile('cat')"
   ]
  },
  {
   "cell_type": "code",
   "execution_count": 7,
   "id": "ac9b9226-947e-47b3-92e5-2eddc17e6b0f",
   "metadata": {},
   "outputs": [],
   "source": [
    "m = rexp.search('this is a black cat')"
   ]
  },
  {
   "cell_type": "code",
   "execution_count": 10,
   "id": "50090222-78b0-4d56-a206-a1545c3df86f",
   "metadata": {},
   "outputs": [
    {
     "data": {
      "text/plain": [
       "'cat'"
      ]
     },
     "execution_count": 10,
     "metadata": {},
     "output_type": "execute_result"
    }
   ],
   "source": [
    "m.group(0)"
   ]
  },
  {
   "cell_type": "code",
   "execution_count": 12,
   "id": "3d25d82c-5b53-4cb0-96f8-d8133ad45b92",
   "metadata": {},
   "outputs": [
    {
     "name": "stdout",
     "output_type": "stream",
     "text": [
      "found\n",
      "cat\n"
     ]
    }
   ],
   "source": [
    "m = rexp.search('this is a black cat')\n",
    "if m:\n",
    "    print('found')\n",
    "    print(m.group(0))\n",
    "else:\n",
    "    print('not found')"
   ]
  },
  {
   "cell_type": "code",
   "execution_count": 108,
   "id": "242c7b00-3538-4e1d-9645-0e81fd375c8a",
   "metadata": {},
   "outputs": [
    {
     "name": "stdout",
     "output_type": "stream",
     "text": [
      "found\n",
      "15\n"
     ]
    }
   ],
   "source": [
    "m = rexp.search('15')\n",
    "if m:\n",
    "    print('found')\n",
    "    print(m.group(0))\n",
    "else:\n",
    "    print('not found')"
   ]
  },
  {
   "cell_type": "code",
   "execution_count": 106,
   "id": "18aa62e0-04a5-453b-9bf7-b545620eb172",
   "metadata": {},
   "outputs": [],
   "source": [
    "rexp = re.compile('^([0-9][0-9]|[0-9])$')"
   ]
  },
  {
   "cell_type": "code",
   "execution_count": null,
   "id": "551e2be6-62f0-41fd-9aaa-9010561d8c45",
   "metadata": {},
   "outputs": [],
   "source": []
  }
 ],
 "metadata": {
  "kernelspec": {
   "display_name": "Python 3 (ipykernel)",
   "language": "python",
   "name": "python3"
  },
  "language_info": {
   "codemirror_mode": {
    "name": "ipython",
    "version": 3
   },
   "file_extension": ".py",
   "mimetype": "text/x-python",
   "name": "python",
   "nbconvert_exporter": "python",
   "pygments_lexer": "ipython3",
   "version": "3.12.1"
  }
 },
 "nbformat": 4,
 "nbformat_minor": 5
}
